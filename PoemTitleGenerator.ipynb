{
  "nbformat": 4,
  "nbformat_minor": 0,
  "metadata": {
    "kernelspec": {
      "display_name": "Python 3",
      "language": "python",
      "name": "python3"
    },
    "language_info": {
      "codemirror_mode": {
        "name": "ipython",
        "version": 3
      },
      "file_extension": ".py",
      "mimetype": "text/x-python",
      "name": "python",
      "nbconvert_exporter": "python",
      "pygments_lexer": "ipython3",
      "version": "3.7.7"
    },
    "colab": {
      "name": "PoemTitleGenerator.ipynb",
      "provenance": [],
      "collapsed_sections": [],
      "toc_visible": true
    },
    "widgets": {
      "application/vnd.jupyter.widget-state+json": {
        "937e9c5c6cdf4fe7b1960383a2244775": {
          "model_module": "@jupyter-widgets/controls",
          "model_name": "HBoxModel",
          "state": {
            "_view_name": "HBoxView",
            "_dom_classes": [],
            "_model_name": "HBoxModel",
            "_view_module": "@jupyter-widgets/controls",
            "_model_module_version": "1.5.0",
            "_view_count": null,
            "_view_module_version": "1.5.0",
            "box_style": "",
            "layout": "IPY_MODEL_0b44c0ba49634d4d98b20ab33452d9d7",
            "_model_module": "@jupyter-widgets/controls",
            "children": [
              "IPY_MODEL_85adee4e965a437ba36245a78eebc7cc",
              "IPY_MODEL_f9d3526d3fb0457d891e2fab842fc9cc"
            ]
          }
        },
        "0b44c0ba49634d4d98b20ab33452d9d7": {
          "model_module": "@jupyter-widgets/base",
          "model_name": "LayoutModel",
          "state": {
            "_view_name": "LayoutView",
            "grid_template_rows": null,
            "right": null,
            "justify_content": null,
            "_view_module": "@jupyter-widgets/base",
            "overflow": null,
            "_model_module_version": "1.2.0",
            "_view_count": null,
            "flex_flow": null,
            "width": null,
            "min_width": null,
            "border": null,
            "align_items": null,
            "bottom": null,
            "_model_module": "@jupyter-widgets/base",
            "top": null,
            "grid_column": null,
            "overflow_y": null,
            "overflow_x": null,
            "grid_auto_flow": null,
            "grid_area": null,
            "grid_template_columns": null,
            "flex": null,
            "_model_name": "LayoutModel",
            "justify_items": null,
            "grid_row": null,
            "max_height": null,
            "align_content": null,
            "visibility": null,
            "align_self": null,
            "height": null,
            "min_height": null,
            "padding": null,
            "grid_auto_rows": null,
            "grid_gap": null,
            "max_width": null,
            "order": null,
            "_view_module_version": "1.2.0",
            "grid_template_areas": null,
            "object_position": null,
            "object_fit": null,
            "grid_auto_columns": null,
            "margin": null,
            "display": null,
            "left": null
          }
        },
        "85adee4e965a437ba36245a78eebc7cc": {
          "model_module": "@jupyter-widgets/controls",
          "model_name": "FloatProgressModel",
          "state": {
            "_view_name": "ProgressView",
            "style": "IPY_MODEL_9c5bb4ed8df44d12bd5cdcfa48648456",
            "_dom_classes": [],
            "description": "training routine: 100%",
            "_model_name": "FloatProgressModel",
            "bar_style": "",
            "max": 1000,
            "_view_module": "@jupyter-widgets/controls",
            "_model_module_version": "1.5.0",
            "value": 1000,
            "_view_count": null,
            "_view_module_version": "1.5.0",
            "orientation": "horizontal",
            "min": 0,
            "description_tooltip": null,
            "_model_module": "@jupyter-widgets/controls",
            "layout": "IPY_MODEL_bb82b7e58ae446f7b95c41b709de8e09"
          }
        },
        "f9d3526d3fb0457d891e2fab842fc9cc": {
          "model_module": "@jupyter-widgets/controls",
          "model_name": "HTMLModel",
          "state": {
            "_view_name": "HTMLView",
            "style": "IPY_MODEL_3101f43f1d9848d382718f5311c62a82",
            "_dom_classes": [],
            "description": "",
            "_model_name": "HTMLModel",
            "placeholder": "​",
            "_view_module": "@jupyter-widgets/controls",
            "_model_module_version": "1.5.0",
            "value": " 1000/1000 [04:00&lt;00:00,  4.26it/s]",
            "_view_count": null,
            "_view_module_version": "1.5.0",
            "description_tooltip": null,
            "_model_module": "@jupyter-widgets/controls",
            "layout": "IPY_MODEL_2ee930003e034806a202901e8d7bee75"
          }
        },
        "9c5bb4ed8df44d12bd5cdcfa48648456": {
          "model_module": "@jupyter-widgets/controls",
          "model_name": "ProgressStyleModel",
          "state": {
            "_view_name": "StyleView",
            "_model_name": "ProgressStyleModel",
            "description_width": "initial",
            "_view_module": "@jupyter-widgets/base",
            "_model_module_version": "1.5.0",
            "_view_count": null,
            "_view_module_version": "1.2.0",
            "bar_color": null,
            "_model_module": "@jupyter-widgets/controls"
          }
        },
        "bb82b7e58ae446f7b95c41b709de8e09": {
          "model_module": "@jupyter-widgets/base",
          "model_name": "LayoutModel",
          "state": {
            "_view_name": "LayoutView",
            "grid_template_rows": null,
            "right": null,
            "justify_content": null,
            "_view_module": "@jupyter-widgets/base",
            "overflow": null,
            "_model_module_version": "1.2.0",
            "_view_count": null,
            "flex_flow": null,
            "width": null,
            "min_width": null,
            "border": null,
            "align_items": null,
            "bottom": null,
            "_model_module": "@jupyter-widgets/base",
            "top": null,
            "grid_column": null,
            "overflow_y": null,
            "overflow_x": null,
            "grid_auto_flow": null,
            "grid_area": null,
            "grid_template_columns": null,
            "flex": null,
            "_model_name": "LayoutModel",
            "justify_items": null,
            "grid_row": null,
            "max_height": null,
            "align_content": null,
            "visibility": null,
            "align_self": null,
            "height": null,
            "min_height": null,
            "padding": null,
            "grid_auto_rows": null,
            "grid_gap": null,
            "max_width": null,
            "order": null,
            "_view_module_version": "1.2.0",
            "grid_template_areas": null,
            "object_position": null,
            "object_fit": null,
            "grid_auto_columns": null,
            "margin": null,
            "display": null,
            "left": null
          }
        },
        "3101f43f1d9848d382718f5311c62a82": {
          "model_module": "@jupyter-widgets/controls",
          "model_name": "DescriptionStyleModel",
          "state": {
            "_view_name": "StyleView",
            "_model_name": "DescriptionStyleModel",
            "description_width": "",
            "_view_module": "@jupyter-widgets/base",
            "_model_module_version": "1.5.0",
            "_view_count": null,
            "_view_module_version": "1.2.0",
            "_model_module": "@jupyter-widgets/controls"
          }
        },
        "2ee930003e034806a202901e8d7bee75": {
          "model_module": "@jupyter-widgets/base",
          "model_name": "LayoutModel",
          "state": {
            "_view_name": "LayoutView",
            "grid_template_rows": null,
            "right": null,
            "justify_content": null,
            "_view_module": "@jupyter-widgets/base",
            "overflow": null,
            "_model_module_version": "1.2.0",
            "_view_count": null,
            "flex_flow": null,
            "width": null,
            "min_width": null,
            "border": null,
            "align_items": null,
            "bottom": null,
            "_model_module": "@jupyter-widgets/base",
            "top": null,
            "grid_column": null,
            "overflow_y": null,
            "overflow_x": null,
            "grid_auto_flow": null,
            "grid_area": null,
            "grid_template_columns": null,
            "flex": null,
            "_model_name": "LayoutModel",
            "justify_items": null,
            "grid_row": null,
            "max_height": null,
            "align_content": null,
            "visibility": null,
            "align_self": null,
            "height": null,
            "min_height": null,
            "padding": null,
            "grid_auto_rows": null,
            "grid_gap": null,
            "max_width": null,
            "order": null,
            "_view_module_version": "1.2.0",
            "grid_template_areas": null,
            "object_position": null,
            "object_fit": null,
            "grid_auto_columns": null,
            "margin": null,
            "display": null,
            "left": null
          }
        },
        "3e4fee812af943359285c48bc8863b55": {
          "model_module": "@jupyter-widgets/controls",
          "model_name": "HBoxModel",
          "state": {
            "_view_name": "HBoxView",
            "_dom_classes": [],
            "_model_name": "HBoxModel",
            "_view_module": "@jupyter-widgets/controls",
            "_model_module_version": "1.5.0",
            "_view_count": null,
            "_view_module_version": "1.5.0",
            "box_style": "",
            "layout": "IPY_MODEL_e04b8fd6a3ef4734be6231ca33e3f577",
            "_model_module": "@jupyter-widgets/controls",
            "children": [
              "IPY_MODEL_5a73d18e217f47e6abe2145ef5694d46",
              "IPY_MODEL_d862d8d08ffd49b5858dd9aca61458ad"
            ]
          }
        },
        "e04b8fd6a3ef4734be6231ca33e3f577": {
          "model_module": "@jupyter-widgets/base",
          "model_name": "LayoutModel",
          "state": {
            "_view_name": "LayoutView",
            "grid_template_rows": null,
            "right": null,
            "justify_content": null,
            "_view_module": "@jupyter-widgets/base",
            "overflow": null,
            "_model_module_version": "1.2.0",
            "_view_count": null,
            "flex_flow": null,
            "width": null,
            "min_width": null,
            "border": null,
            "align_items": null,
            "bottom": null,
            "_model_module": "@jupyter-widgets/base",
            "top": null,
            "grid_column": null,
            "overflow_y": null,
            "overflow_x": null,
            "grid_auto_flow": null,
            "grid_area": null,
            "grid_template_columns": null,
            "flex": null,
            "_model_name": "LayoutModel",
            "justify_items": null,
            "grid_row": null,
            "max_height": null,
            "align_content": null,
            "visibility": null,
            "align_self": null,
            "height": null,
            "min_height": null,
            "padding": null,
            "grid_auto_rows": null,
            "grid_gap": null,
            "max_width": null,
            "order": null,
            "_view_module_version": "1.2.0",
            "grid_template_areas": null,
            "object_position": null,
            "object_fit": null,
            "grid_auto_columns": null,
            "margin": null,
            "display": null,
            "left": null
          }
        },
        "5a73d18e217f47e6abe2145ef5694d46": {
          "model_module": "@jupyter-widgets/controls",
          "model_name": "FloatProgressModel",
          "state": {
            "_view_name": "ProgressView",
            "style": "IPY_MODEL_252024ccb2594dea987dafc21cd35c63",
            "_dom_classes": [],
            "description": "split=train: 100%",
            "_model_name": "FloatProgressModel",
            "bar_style": "",
            "max": 11,
            "_view_module": "@jupyter-widgets/controls",
            "_model_module_version": "1.5.0",
            "value": 11,
            "_view_count": null,
            "_view_module_version": "1.5.0",
            "orientation": "horizontal",
            "min": 0,
            "description_tooltip": null,
            "_model_module": "@jupyter-widgets/controls",
            "layout": "IPY_MODEL_41c676ab33ce4bcc83fe092aefc6aabc"
          }
        },
        "d862d8d08ffd49b5858dd9aca61458ad": {
          "model_module": "@jupyter-widgets/controls",
          "model_name": "HTMLModel",
          "state": {
            "_view_name": "HTMLView",
            "style": "IPY_MODEL_7b27ce736b1c4d1380b4bf39bdd39185",
            "_dom_classes": [],
            "description": "",
            "_model_name": "HTMLModel",
            "placeholder": "​",
            "_view_module": "@jupyter-widgets/controls",
            "_model_module_version": "1.5.0",
            "value": " 11/11 [04:00&lt;00:00,  5.42s/it, acc=83.2, epoch=999, loss=0.528]",
            "_view_count": null,
            "_view_module_version": "1.5.0",
            "description_tooltip": null,
            "_model_module": "@jupyter-widgets/controls",
            "layout": "IPY_MODEL_9700ff00900c437289f8bf3cd7467771"
          }
        },
        "252024ccb2594dea987dafc21cd35c63": {
          "model_module": "@jupyter-widgets/controls",
          "model_name": "ProgressStyleModel",
          "state": {
            "_view_name": "StyleView",
            "_model_name": "ProgressStyleModel",
            "description_width": "initial",
            "_view_module": "@jupyter-widgets/base",
            "_model_module_version": "1.5.0",
            "_view_count": null,
            "_view_module_version": "1.2.0",
            "bar_color": null,
            "_model_module": "@jupyter-widgets/controls"
          }
        },
        "41c676ab33ce4bcc83fe092aefc6aabc": {
          "model_module": "@jupyter-widgets/base",
          "model_name": "LayoutModel",
          "state": {
            "_view_name": "LayoutView",
            "grid_template_rows": null,
            "right": null,
            "justify_content": null,
            "_view_module": "@jupyter-widgets/base",
            "overflow": null,
            "_model_module_version": "1.2.0",
            "_view_count": null,
            "flex_flow": null,
            "width": null,
            "min_width": null,
            "border": null,
            "align_items": null,
            "bottom": null,
            "_model_module": "@jupyter-widgets/base",
            "top": null,
            "grid_column": null,
            "overflow_y": null,
            "overflow_x": null,
            "grid_auto_flow": null,
            "grid_area": null,
            "grid_template_columns": null,
            "flex": null,
            "_model_name": "LayoutModel",
            "justify_items": null,
            "grid_row": null,
            "max_height": null,
            "align_content": null,
            "visibility": null,
            "align_self": null,
            "height": null,
            "min_height": null,
            "padding": null,
            "grid_auto_rows": null,
            "grid_gap": null,
            "max_width": null,
            "order": null,
            "_view_module_version": "1.2.0",
            "grid_template_areas": null,
            "object_position": null,
            "object_fit": null,
            "grid_auto_columns": null,
            "margin": null,
            "display": null,
            "left": null
          }
        },
        "7b27ce736b1c4d1380b4bf39bdd39185": {
          "model_module": "@jupyter-widgets/controls",
          "model_name": "DescriptionStyleModel",
          "state": {
            "_view_name": "StyleView",
            "_model_name": "DescriptionStyleModel",
            "description_width": "",
            "_view_module": "@jupyter-widgets/base",
            "_model_module_version": "1.5.0",
            "_view_count": null,
            "_view_module_version": "1.2.0",
            "_model_module": "@jupyter-widgets/controls"
          }
        },
        "9700ff00900c437289f8bf3cd7467771": {
          "model_module": "@jupyter-widgets/base",
          "model_name": "LayoutModel",
          "state": {
            "_view_name": "LayoutView",
            "grid_template_rows": null,
            "right": null,
            "justify_content": null,
            "_view_module": "@jupyter-widgets/base",
            "overflow": null,
            "_model_module_version": "1.2.0",
            "_view_count": null,
            "flex_flow": null,
            "width": null,
            "min_width": null,
            "border": null,
            "align_items": null,
            "bottom": null,
            "_model_module": "@jupyter-widgets/base",
            "top": null,
            "grid_column": null,
            "overflow_y": null,
            "overflow_x": null,
            "grid_auto_flow": null,
            "grid_area": null,
            "grid_template_columns": null,
            "flex": null,
            "_model_name": "LayoutModel",
            "justify_items": null,
            "grid_row": null,
            "max_height": null,
            "align_content": null,
            "visibility": null,
            "align_self": null,
            "height": null,
            "min_height": null,
            "padding": null,
            "grid_auto_rows": null,
            "grid_gap": null,
            "max_width": null,
            "order": null,
            "_view_module_version": "1.2.0",
            "grid_template_areas": null,
            "object_position": null,
            "object_fit": null,
            "grid_auto_columns": null,
            "margin": null,
            "display": null,
            "left": null
          }
        },
        "6f1197cf0ca8479d803c20b161c1be0d": {
          "model_module": "@jupyter-widgets/controls",
          "model_name": "HBoxModel",
          "state": {
            "_view_name": "HBoxView",
            "_dom_classes": [],
            "_model_name": "HBoxModel",
            "_view_module": "@jupyter-widgets/controls",
            "_model_module_version": "1.5.0",
            "_view_count": null,
            "_view_module_version": "1.5.0",
            "box_style": "",
            "layout": "IPY_MODEL_32ff0141e61148068dfcb6c879a98aa0",
            "_model_module": "@jupyter-widgets/controls",
            "children": [
              "IPY_MODEL_39949f1c76f0458d94f0e5756f6c2088",
              "IPY_MODEL_931ce633644f4850841b00eca4242c56"
            ]
          }
        },
        "32ff0141e61148068dfcb6c879a98aa0": {
          "model_module": "@jupyter-widgets/base",
          "model_name": "LayoutModel",
          "state": {
            "_view_name": "LayoutView",
            "grid_template_rows": null,
            "right": null,
            "justify_content": null,
            "_view_module": "@jupyter-widgets/base",
            "overflow": null,
            "_model_module_version": "1.2.0",
            "_view_count": null,
            "flex_flow": null,
            "width": null,
            "min_width": null,
            "border": null,
            "align_items": null,
            "bottom": null,
            "_model_module": "@jupyter-widgets/base",
            "top": null,
            "grid_column": null,
            "overflow_y": null,
            "overflow_x": null,
            "grid_auto_flow": null,
            "grid_area": null,
            "grid_template_columns": null,
            "flex": null,
            "_model_name": "LayoutModel",
            "justify_items": null,
            "grid_row": null,
            "max_height": null,
            "align_content": null,
            "visibility": null,
            "align_self": null,
            "height": null,
            "min_height": null,
            "padding": null,
            "grid_auto_rows": null,
            "grid_gap": null,
            "max_width": null,
            "order": null,
            "_view_module_version": "1.2.0",
            "grid_template_areas": null,
            "object_position": null,
            "object_fit": null,
            "grid_auto_columns": null,
            "margin": null,
            "display": null,
            "left": null
          }
        },
        "39949f1c76f0458d94f0e5756f6c2088": {
          "model_module": "@jupyter-widgets/controls",
          "model_name": "FloatProgressModel",
          "state": {
            "_view_name": "ProgressView",
            "style": "IPY_MODEL_c6a0903b9f7146718424a8e387d3d450",
            "_dom_classes": [],
            "description": "split=val: ",
            "_model_name": "FloatProgressModel",
            "bar_style": "",
            "max": 2,
            "_view_module": "@jupyter-widgets/controls",
            "_model_module_version": "1.5.0",
            "value": 2,
            "_view_count": null,
            "_view_module_version": "1.5.0",
            "orientation": "horizontal",
            "min": 0,
            "description_tooltip": null,
            "_model_module": "@jupyter-widgets/controls",
            "layout": "IPY_MODEL_170689f1ed20444d886473e9df129830"
          }
        },
        "931ce633644f4850841b00eca4242c56": {
          "model_module": "@jupyter-widgets/controls",
          "model_name": "HTMLModel",
          "state": {
            "_view_name": "HTMLView",
            "style": "IPY_MODEL_cebd018c3b4d491f9d182b37b8e75d3a",
            "_dom_classes": [],
            "description": "",
            "_model_name": "HTMLModel",
            "placeholder": "​",
            "_view_module": "@jupyter-widgets/controls",
            "_model_module_version": "1.5.0",
            "value": " 1999/? [04:00&lt;00:00,  8.52it/s, acc=45.8, epoch=999, loss=3.12]",
            "_view_count": null,
            "_view_module_version": "1.5.0",
            "description_tooltip": null,
            "_model_module": "@jupyter-widgets/controls",
            "layout": "IPY_MODEL_9ea14cc8b58c4b2d9a386cf6458689ae"
          }
        },
        "c6a0903b9f7146718424a8e387d3d450": {
          "model_module": "@jupyter-widgets/controls",
          "model_name": "ProgressStyleModel",
          "state": {
            "_view_name": "StyleView",
            "_model_name": "ProgressStyleModel",
            "description_width": "initial",
            "_view_module": "@jupyter-widgets/base",
            "_model_module_version": "1.5.0",
            "_view_count": null,
            "_view_module_version": "1.2.0",
            "bar_color": null,
            "_model_module": "@jupyter-widgets/controls"
          }
        },
        "170689f1ed20444d886473e9df129830": {
          "model_module": "@jupyter-widgets/base",
          "model_name": "LayoutModel",
          "state": {
            "_view_name": "LayoutView",
            "grid_template_rows": null,
            "right": null,
            "justify_content": null,
            "_view_module": "@jupyter-widgets/base",
            "overflow": null,
            "_model_module_version": "1.2.0",
            "_view_count": null,
            "flex_flow": null,
            "width": null,
            "min_width": null,
            "border": null,
            "align_items": null,
            "bottom": null,
            "_model_module": "@jupyter-widgets/base",
            "top": null,
            "grid_column": null,
            "overflow_y": null,
            "overflow_x": null,
            "grid_auto_flow": null,
            "grid_area": null,
            "grid_template_columns": null,
            "flex": null,
            "_model_name": "LayoutModel",
            "justify_items": null,
            "grid_row": null,
            "max_height": null,
            "align_content": null,
            "visibility": null,
            "align_self": null,
            "height": null,
            "min_height": null,
            "padding": null,
            "grid_auto_rows": null,
            "grid_gap": null,
            "max_width": null,
            "order": null,
            "_view_module_version": "1.2.0",
            "grid_template_areas": null,
            "object_position": null,
            "object_fit": null,
            "grid_auto_columns": null,
            "margin": null,
            "display": null,
            "left": null
          }
        },
        "cebd018c3b4d491f9d182b37b8e75d3a": {
          "model_module": "@jupyter-widgets/controls",
          "model_name": "DescriptionStyleModel",
          "state": {
            "_view_name": "StyleView",
            "_model_name": "DescriptionStyleModel",
            "description_width": "",
            "_view_module": "@jupyter-widgets/base",
            "_model_module_version": "1.5.0",
            "_view_count": null,
            "_view_module_version": "1.2.0",
            "_model_module": "@jupyter-widgets/controls"
          }
        },
        "9ea14cc8b58c4b2d9a386cf6458689ae": {
          "model_module": "@jupyter-widgets/base",
          "model_name": "LayoutModel",
          "state": {
            "_view_name": "LayoutView",
            "grid_template_rows": null,
            "right": null,
            "justify_content": null,
            "_view_module": "@jupyter-widgets/base",
            "overflow": null,
            "_model_module_version": "1.2.0",
            "_view_count": null,
            "flex_flow": null,
            "width": null,
            "min_width": null,
            "border": null,
            "align_items": null,
            "bottom": null,
            "_model_module": "@jupyter-widgets/base",
            "top": null,
            "grid_column": null,
            "overflow_y": null,
            "overflow_x": null,
            "grid_auto_flow": null,
            "grid_area": null,
            "grid_template_columns": null,
            "flex": null,
            "_model_name": "LayoutModel",
            "justify_items": null,
            "grid_row": null,
            "max_height": null,
            "align_content": null,
            "visibility": null,
            "align_self": null,
            "height": null,
            "min_height": null,
            "padding": null,
            "grid_auto_rows": null,
            "grid_gap": null,
            "max_width": null,
            "order": null,
            "_view_module_version": "1.2.0",
            "grid_template_areas": null,
            "object_position": null,
            "object_fit": null,
            "grid_auto_columns": null,
            "margin": null,
            "display": null,
            "left": null
          }
        }
      }
    },
    "accelerator": "GPU"
  },
  "cells": [
    {
      "cell_type": "markdown",
      "metadata": {
        "id": "KIpbg8O4wKIQ"
      },
      "source": [
        "# Poem Title Generator"
      ]
    },
    {
      "cell_type": "markdown",
      "metadata": {
        "id": "110eHlq7xKEf"
      },
      "source": [
        "## References\n",
        "\n",
        "__DATA__\n",
        "\n",
        "1. https://www.kaggle.com/ultrajack/modern-renaissance-poetry/data\n",
        "\n",
        "__Code__\n",
        "\n",
        "1. https://github.com/joosthub/PyTorchNLPBook/blob/master/chapters/chapter_5/5_2_CBOW/5_2_munging_frankenstein.ipynb"
      ]
    },
    {
      "cell_type": "code",
      "metadata": {
        "colab": {
          "base_uri": "https://localhost:8080/"
        },
        "id": "7FUxsiSMsR7-",
        "outputId": "1ff1752f-1bea-4017-e106-860a76dd2ae9"
      },
      "source": [
        "from google.colab import drive\n",
        "drive.mount('/content/drive')"
      ],
      "execution_count": null,
      "outputs": [
        {
          "output_type": "stream",
          "text": [
            "Mounted at /content/drive\n"
          ],
          "name": "stdout"
        }
      ]
    },
    {
      "cell_type": "code",
      "metadata": {
        "id": "JKqqfaPIr6tv"
      },
      "source": [
        "import numpy as np\n",
        "from collections import Counter\n",
        "import string\n",
        "import torch\n",
        "from torch.utils.data import Dataset\n",
        "import pandas as pd\n",
        "import torch.nn as nn\n",
        "from torch.utils.data import DataLoader\n",
        "from argparse import Namespace\n",
        "import torch.optim as optim\n",
        "from tqdm.notebook import tqdm\n",
        "import torch.nn.functional as F\n",
        "import re\n",
        "import json"
      ],
      "execution_count": null,
      "outputs": []
    },
    {
      "cell_type": "code",
      "metadata": {
        "colab": {
          "base_uri": "https://localhost:8080/",
          "height": 293
        },
        "id": "XVEhbVv3r6tw",
        "outputId": "ace96cda-0515-4366-8702-34aa25ba80f1"
      },
      "source": [
        "df = pd.read_csv(\"/content/drive/MyDrive/Colab Notebooks/PoetryGenerator/data/poetryfoundation.csv\")\n",
        "df.head()"
      ],
      "execution_count": null,
      "outputs": [
        {
          "output_type": "execute_result",
          "data": {
            "text/html": [
              "<div>\n",
              "<style scoped>\n",
              "    .dataframe tbody tr th:only-of-type {\n",
              "        vertical-align: middle;\n",
              "    }\n",
              "\n",
              "    .dataframe tbody tr th {\n",
              "        vertical-align: top;\n",
              "    }\n",
              "\n",
              "    .dataframe thead th {\n",
              "        text-align: right;\n",
              "    }\n",
              "</style>\n",
              "<table border=\"1\" class=\"dataframe\">\n",
              "  <thead>\n",
              "    <tr style=\"text-align: right;\">\n",
              "      <th></th>\n",
              "      <th>author</th>\n",
              "      <th>content</th>\n",
              "      <th>poem name</th>\n",
              "      <th>age</th>\n",
              "      <th>type</th>\n",
              "    </tr>\n",
              "  </thead>\n",
              "  <tbody>\n",
              "    <tr>\n",
              "      <th>0</th>\n",
              "      <td>WILLIAM SHAKESPEARE</td>\n",
              "      <td>Let the bird of loudest lay\\r\\nOn the sole Ara...</td>\n",
              "      <td>The Phoenix and the Turtle</td>\n",
              "      <td>Renaissance</td>\n",
              "      <td>Mythology &amp; Folklore</td>\n",
              "    </tr>\n",
              "    <tr>\n",
              "      <th>1</th>\n",
              "      <td>DUCHESS OF NEWCASTLE MARGARET CAVENDISH</td>\n",
              "      <td>Sir Charles into my chamber coming in,\\r\\nWhen...</td>\n",
              "      <td>An Epilogue to the Above</td>\n",
              "      <td>Renaissance</td>\n",
              "      <td>Mythology &amp; Folklore</td>\n",
              "    </tr>\n",
              "    <tr>\n",
              "      <th>2</th>\n",
              "      <td>THOMAS BASTARD</td>\n",
              "      <td>Our vice runs beyond all that old men saw,\\r\\n...</td>\n",
              "      <td>Book 7, Epigram 42</td>\n",
              "      <td>Renaissance</td>\n",
              "      <td>Mythology &amp; Folklore</td>\n",
              "    </tr>\n",
              "    <tr>\n",
              "      <th>3</th>\n",
              "      <td>EDMUND SPENSER</td>\n",
              "      <td>Lo I the man, whose Muse whilome did maske,\\r\\...</td>\n",
              "      <td>from The Faerie Queene: Book I, Canto I</td>\n",
              "      <td>Renaissance</td>\n",
              "      <td>Mythology &amp; Folklore</td>\n",
              "    </tr>\n",
              "    <tr>\n",
              "      <th>4</th>\n",
              "      <td>RICHARD BARNFIELD</td>\n",
              "      <td>Long have I longd to see my love againe,\\r\\nSt...</td>\n",
              "      <td>Sonnet 16</td>\n",
              "      <td>Renaissance</td>\n",
              "      <td>Mythology &amp; Folklore</td>\n",
              "    </tr>\n",
              "  </tbody>\n",
              "</table>\n",
              "</div>"
            ],
            "text/plain": [
              "                                    author  ...                  type\n",
              "0                      WILLIAM SHAKESPEARE  ...  Mythology & Folklore\n",
              "1  DUCHESS OF NEWCASTLE MARGARET CAVENDISH  ...  Mythology & Folklore\n",
              "2                           THOMAS BASTARD  ...  Mythology & Folklore\n",
              "3                           EDMUND SPENSER  ...  Mythology & Folklore\n",
              "4                        RICHARD BARNFIELD  ...  Mythology & Folklore\n",
              "\n",
              "[5 rows x 5 columns]"
            ]
          },
          "metadata": {
            "tags": []
          },
          "execution_count": 17
        }
      ]
    },
    {
      "cell_type": "code",
      "metadata": {
        "colab": {
          "base_uri": "https://localhost:8080/"
        },
        "id": "a7la2x9Jr6tx",
        "outputId": "aa9dba72-16a4-4784-d960-b34d2bbd90ce"
      },
      "source": [
        "df.shape"
      ],
      "execution_count": null,
      "outputs": [
        {
          "output_type": "execute_result",
          "data": {
            "text/plain": [
              "(573, 5)"
            ]
          },
          "metadata": {
            "tags": []
          },
          "execution_count": 4
        }
      ]
    },
    {
      "cell_type": "code",
      "metadata": {
        "id": "PrDLTCZ_1q3x"
      },
      "source": [
        "df['split'] = 'train'\n",
        "poem_title_df = df[['poem name', 'split']].copy()\n",
        "\n",
        "def assign_label(row):\n",
        "    magic_number = np.random.randint(0, 10)\n",
        "    if magic_number > 6:\n",
        "        valortest = np.random.randint(0, 2)\n",
        "        if valortest == 0:\n",
        "            return 'val'\n",
        "        elif valortest == 1:\n",
        "            return 'test'\n",
        "    else:\n",
        "        return 'train'\n",
        "           \n",
        "poem_title_df['split'] = poem_title_df.apply(lambda row: assign_label(row['split']), axis=1)"
      ],
      "execution_count": null,
      "outputs": []
    },
    {
      "cell_type": "code",
      "metadata": {
        "colab": {
          "base_uri": "https://localhost:8080/"
        },
        "id": "Azqd_srE9tUU",
        "outputId": "cdfe4454-1c9d-45eb-f130-b2390b7a40de"
      },
      "source": [
        "poem_title_df['split'].value_counts()"
      ],
      "execution_count": null,
      "outputs": [
        {
          "output_type": "execute_result",
          "data": {
            "text/plain": [
              "train    412\n",
              "test      93\n",
              "val       66\n",
              "Name: split, dtype: int64"
            ]
          },
          "metadata": {
            "tags": []
          },
          "execution_count": 70
        }
      ]
    },
    {
      "cell_type": "code",
      "metadata": {
        "id": "tZ5r09OXPrCt"
      },
      "source": [
        "poem_title_df.drop(poem_title_df[poem_title_df['poem name'].isna()].index, inplace=True)"
      ],
      "execution_count": null,
      "outputs": []
    },
    {
      "cell_type": "code",
      "metadata": {
        "colab": {
          "base_uri": "https://localhost:8080/",
          "height": 49
        },
        "id": "LGaamQ63QEvd",
        "outputId": "dffe5abe-c319-44e9-8947-38fcc4f8deb8"
      },
      "source": [
        "poem_title_df[poem_title_df['poem name'].isna()]"
      ],
      "execution_count": null,
      "outputs": [
        {
          "output_type": "execute_result",
          "data": {
            "text/html": [
              "<div>\n",
              "<style scoped>\n",
              "    .dataframe tbody tr th:only-of-type {\n",
              "        vertical-align: middle;\n",
              "    }\n",
              "\n",
              "    .dataframe tbody tr th {\n",
              "        vertical-align: top;\n",
              "    }\n",
              "\n",
              "    .dataframe thead th {\n",
              "        text-align: right;\n",
              "    }\n",
              "</style>\n",
              "<table border=\"1\" class=\"dataframe\">\n",
              "  <thead>\n",
              "    <tr style=\"text-align: right;\">\n",
              "      <th></th>\n",
              "      <th>poem name</th>\n",
              "      <th>split</th>\n",
              "    </tr>\n",
              "  </thead>\n",
              "  <tbody>\n",
              "  </tbody>\n",
              "</table>\n",
              "</div>"
            ],
            "text/plain": [
              "Empty DataFrame\n",
              "Columns: [poem name, split]\n",
              "Index: []"
            ]
          },
          "metadata": {
            "tags": []
          },
          "execution_count": 23
        }
      ]
    },
    {
      "cell_type": "code",
      "metadata": {
        "id": "n5lFBc9dr6tx"
      },
      "source": [
        "poem_title_df.to_csv(\"/content/drive/MyDrive/Colab Notebooks/PoemTitleGenerator/poem_title.csv\", index=False)"
      ],
      "execution_count": null,
      "outputs": []
    },
    {
      "cell_type": "markdown",
      "metadata": {
        "id": "tkQ9aA06FSv2"
      },
      "source": [
        "# Building The Model"
      ]
    },
    {
      "cell_type": "markdown",
      "metadata": {
        "id": "xGa6O63pFXV9"
      },
      "source": [
        "## Sequence Vocabulary Class"
      ]
    },
    {
      "cell_type": "code",
      "metadata": {
        "id": "IB_cyw_-FWgZ"
      },
      "source": [
        "class Vocabulary(object):\n",
        "    def __init__(self):\n",
        "        \"\"\"\n",
        "        Create sequence vocabulary\n",
        "        \"\"\"\n",
        "        self.token_to_idx = {}\n",
        "        self.idx_to_token = {}\n",
        "\n",
        "        self.bos_token = \"<BOS>\"\n",
        "        self.eos_token = \"<EOS>\"\n",
        "        self.mask_token = \"<MASK>\"\n",
        "        self.unk_token = \"<UNK>\"\n",
        "\n",
        "        self.bos_index = self.add_token(self.bos_token)\n",
        "        self.eos_index = self.add_token(self.eos_token)\n",
        "        self.mask_index = self.add_token(self.mask_token)\n",
        "        self.unk_index = self.add_token(self.unk_token)\n",
        "\n",
        "    def add_token(self, token):\n",
        "        \"\"\"\n",
        "        Add new token to vocabulary\n",
        "        \"\"\"\n",
        "\n",
        "        if token in self.token_to_idx:\n",
        "            index = self.token_to_idx[token]\n",
        "        else:\n",
        "            index = len(self.token_to_idx)\n",
        "            self.token_to_idx[token] = index\n",
        "            self.idx_to_token[index] = token\n",
        "            \n",
        "        return index\n",
        "\n",
        "    def lookup_index(self, index):\n",
        "        \"\"\"\n",
        "        Find token given an index\n",
        "        \"\"\"\n",
        "        return self.idx_to_token[index]\n",
        "\n",
        "    def lookup_token(self, token):\n",
        "        \"\"\"\n",
        "        Find an index of a token\n",
        "        \"\"\"\n",
        "        if token in self.token_to_idx:\n",
        "            return self.token_to_idx[token]\n",
        "\n",
        "    def __len__(self):\n",
        "        \"\"\"\n",
        "        Return the length of vocabulary\n",
        "        \"\"\"\n",
        "        return len(self.token_to_idx)"
      ],
      "execution_count": null,
      "outputs": []
    },
    {
      "cell_type": "markdown",
      "metadata": {
        "id": "mc12_TtAJQY8"
      },
      "source": [
        "## Vectorizer Class"
      ]
    },
    {
      "cell_type": "code",
      "metadata": {
        "id": "tbHq-SWAJTYR"
      },
      "source": [
        "class Vectorizer(object):\n",
        "    def __init__(self, title_vocab):\n",
        "        self.title_vocab = title_vocab\n",
        "\n",
        "    def vectorize(self, title, vector_length=-1):\n",
        "        \"\"\"\n",
        "        Vectorize the title and returns two vector\n",
        "        title[:-1] and title[1:]\n",
        "        so that the first vector is an observation vector\n",
        "        and the second is target vector\n",
        "        \"\"\"\n",
        "\n",
        "        indices = [self.title_vocab.bos_index]\n",
        "        indices.extend(self.title_vocab.lookup_token(token) for token\n",
        "                                  in title)\n",
        "        indices.append(self.title_vocab.eos_index)\n",
        "\n",
        "        if vector_length < 0:\n",
        "            vector_length = len(indices) - 1\n",
        "\n",
        "        from_vector = np.empty(vector_length, dtype=np.int64)\n",
        "        from_indices = indices[:-1]\n",
        "        from_vector[:len(from_indices)] = from_indices \n",
        "        from_vector[len(from_indices):] = self.title_vocab.mask_index\n",
        "\n",
        "        to_vector = np.empty(vector_length, dtype=np.int64)\n",
        "        to_indices = indices[1:]\n",
        "        to_vector[:len(to_indices)] = to_indices\n",
        "        to_vector[len(to_indices):] = self.title_vocab.mask_index\n",
        "\n",
        "        return from_vector, to_vector\n",
        "\n",
        "    @classmethod\n",
        "    def from_dataframe(cls, title_df):\n",
        "        \"\"\"\n",
        "        Vectorize from dataframe\n",
        "        \"\"\"\n",
        "        title_vocab = Vocabulary()\n",
        "\n",
        "        for index, row in title_df.iterrows():\n",
        "            title = row['poem name']\n",
        "            for char in title:\n",
        "                title_vocab.add_token(char)\n",
        "\n",
        "        return cls(title_vocab)"
      ],
      "execution_count": null,
      "outputs": []
    },
    {
      "cell_type": "markdown",
      "metadata": {
        "id": "Iwlzh_OOx1mO"
      },
      "source": [
        "## Dataset Class"
      ]
    },
    {
      "cell_type": "code",
      "metadata": {
        "id": "xPA1vDljKCdi"
      },
      "source": [
        "class TitleDataset(Dataset):\n",
        "    def __init__(self, title_df, vectorizer):\n",
        "        self.title_df = title_df\n",
        "        self.vectorizer = vectorizer\n",
        "\n",
        "        self.max_seq_length = max(map(len, self.title_df['poem name'])) + 2\n",
        "\n",
        "        self.train_df = self.title_df[self.title_df['split'] == 'train']\n",
        "        self.train_size = len(self.train_df)\n",
        "\n",
        "        self.val_df = self.title_df[self.title_df['split'] == 'val']\n",
        "        self.val_size = len(self.val_df)\n",
        "\n",
        "        self.test_df = self.title_df[self.title_df['split'] == 'test']\n",
        "        self.test_size = len(self.test_df)\n",
        "\n",
        "        self.lookup_dict = {\n",
        "            \"train\": (self.train_df, self.train_size),\n",
        "            \"test\": (self.test_df, self.test_size),\n",
        "            \"val\": (self.val_df, self.val_size)\n",
        "        }\n",
        "\n",
        "        self.set_split(\"train\")\n",
        "\n",
        "    @classmethod\n",
        "    def load_dataset_and_make_vectorizer(cls, title_csv):\n",
        "        title_df = pd.read_csv(title_csv)\n",
        "        return cls(title_df, Vectorizer.from_dataframe(title_df))\n",
        "\n",
        "    def set_split(self, split=\"train\"):\n",
        "        self.target_split = split\n",
        "        self.target_df, self.target_size = self.lookup_dict[split]\n",
        "\n",
        "    def __len__(self):\n",
        "        return self.target_size\n",
        "    \n",
        "    def __getitem__(self, index):\n",
        "        \"\"\"\n",
        "        Pytorch primary point to get data\n",
        "        return the data point\n",
        "        \"\"\"\n",
        "\n",
        "        row = self.target_df.iloc[index]\n",
        "\n",
        "        from_vector, to_vector = self.vectorizer.vectorize(row['poem name'],\n",
        "                                                           self.max_seq_length)\n",
        "        \n",
        "        return {\n",
        "            \"x_data\": from_vector,\n",
        "            \"y_target\": to_vector\n",
        "        }\n",
        "\n",
        "    def get_num_batches(self, batch_size):\n",
        "        return len(self) // batch_size\n",
        "\n",
        "    def get_vectorizer(self):\n",
        "        return self.vectorizer\n",
        "\n",
        "\n",
        "def generate_batches(dataset, batch_size, shuffle=True,\n",
        "                     drop_last=True, device=\"cpu\"):\n",
        "    \"\"\"\n",
        "    Helper function to generate batches\n",
        "    \"\"\"\n",
        "    dataloader = DataLoader(dataset=dataset, batch_size=batch_size,\n",
        "                            shuffle=shuffle, drop_last=drop_last)\n",
        "\n",
        "    for data_dict in dataloader:\n",
        "        out_data_dict = {}\n",
        "        for name, tensor in data_dict.items():\n",
        "            out_data_dict[name] = data_dict[name].to(device)\n",
        "        yield out_data_dict"
      ],
      "execution_count": null,
      "outputs": []
    },
    {
      "cell_type": "markdown",
      "metadata": {
        "id": "jBaU_URI2wIN"
      },
      "source": [
        "## Poem Title Model"
      ]
    },
    {
      "cell_type": "code",
      "metadata": {
        "id": "7por63CB2zbR"
      },
      "source": [
        "class PoemTitleGenerator(nn.Module):\n",
        "    def __init__(self, embedding_size, vocab_size, rnn_hidden_size,\n",
        "                 padding_idx=0, dropout=.5, batch_first=True):\n",
        "        \n",
        "        super(PoemTitleGenerator, self).__init__()\n",
        "        \n",
        "        self.embedding = nn.Embedding(num_embeddings= vocab_size,\n",
        "                                      embedding_dim= embedding_size,\n",
        "                                      padding_idx= padding_idx)\n",
        "        \n",
        "        self.rnn = nn.GRU(input_size = embedding_size,\n",
        "                          hidden_size = rnn_hidden_size,\n",
        "                          batch_first = batch_first)\n",
        "        \n",
        "        self.fc = nn.Linear(in_features= rnn_hidden_size,\n",
        "                            out_features= vocab_size)\n",
        "        \n",
        "        self.dropout = nn.Dropout(p=dropout)\n",
        "\n",
        "    def forward(self, x_in, apply_softmax = False):\n",
        "        x_embedded = self.embedding(x_in)\n",
        "\n",
        "        y_out, hidden = self.rnn(x_embedded)\n",
        "\n",
        "        batch_size, seq_size, features = y_out.shape\n",
        "        y_out = y_out.contiguous().view(batch_size * seq_size, features)\n",
        "\n",
        "        y_out = self.fc(self.dropout(y_out))\n",
        "\n",
        "        if apply_softmax:\n",
        "            y_out = F.softmax(y_out, dim=1)\n",
        "\n",
        "        new_feat_size = y_out.shape[-1]\n",
        "        y_out = y_out.view(batch_size, seq_size, new_feat_size)\n",
        "            \n",
        "        return y_out"
      ],
      "execution_count": null,
      "outputs": []
    },
    {
      "cell_type": "markdown",
      "metadata": {
        "id": "VnkiHPK65rTH"
      },
      "source": [
        "## Training Routine"
      ]
    },
    {
      "cell_type": "markdown",
      "metadata": {
        "id": "lT8zfGz05uGV"
      },
      "source": [
        "### Helper Functions\n"
      ]
    },
    {
      "cell_type": "code",
      "metadata": {
        "id": "bP7V99TxF-Bk"
      },
      "source": [
        "def make_train_state(args):\n",
        "    return {'stop_early': False,\n",
        "            'early_stopping_step': 0,\n",
        "            'early_stopping_best_val': 1e8,\n",
        "            'learning_rate': args.learning_rate,\n",
        "            'epoch_index': 0,\n",
        "            'train_loss': [],\n",
        "            'train_acc': [],\n",
        "            'val_loss': [],\n",
        "            'val_acc': [],\n",
        "            'test_loss': -1,\n",
        "            'test_acc': -1}\n",
        "\n",
        "def normalize_sizes(y_pred, y_true):\n",
        "    \"\"\"Normalize tensor sizes\n",
        "    \n",
        "    Args:\n",
        "        y_pred (torch.Tensor): the output of the model\n",
        "            If a 3-dimensional tensor, reshapes to a matrix\n",
        "        y_true (torch.Tensor): the target predictions\n",
        "            If a matrix, reshapes to be a vector\n",
        "    \"\"\"\n",
        "    if len(y_pred.size()) == 3:\n",
        "        y_pred = y_pred.contiguous().view(-1, y_pred.size(2))\n",
        "    if len(y_true.size()) == 2:\n",
        "        y_true = y_true.contiguous().view(-1)\n",
        "    return y_pred, y_true\n",
        "\n",
        "def compute_accuracy(y_pred, y_true, mask_index):\n",
        "    y_pred, y_true = normalize_sizes(y_pred, y_true)\n",
        "\n",
        "    _, y_pred_indices = y_pred.max(dim=1)\n",
        "    \n",
        "    correct_indices = torch.eq(y_pred_indices, y_true).float()\n",
        "    valid_indices = torch.ne(y_true, mask_index).float()\n",
        "    \n",
        "    n_correct = (correct_indices * valid_indices).sum().item()\n",
        "    n_valid = valid_indices.sum().item()\n",
        "\n",
        "    return n_correct / n_valid * 100\n",
        "\n",
        "def sequence_loss(y_pred, y_true, mask_index):\n",
        "    y_pred, y_true = normalize_sizes(y_pred, y_true)\n",
        "    return F.cross_entropy(y_pred, y_true, ignore_index=mask_index)"
      ],
      "execution_count": null,
      "outputs": []
    },
    {
      "cell_type": "code",
      "metadata": {
        "id": "tEJJQO_9uoox"
      },
      "source": [
        "def sample_from_model(model, vectorizer, num_samples=1, sample_size=20, \n",
        "                      temperature=1.0):\n",
        "    \"\"\"Sample a sequence of indices from the model\n",
        "    \n",
        "    Args:\n",
        "        model (SurnameGenerationModel): the trained model\n",
        "        vectorizer (SurnameVectorizer): the corresponding vectorizer\n",
        "        num_samples (int): the number of samples\n",
        "        sample_size (int): the max length of the samples\n",
        "        temperature (float): accentuates or flattens \n",
        "            the distribution. \n",
        "            0.0 < temperature < 1.0 will make it peakier. \n",
        "            temperature > 1.0 will make it more uniform\n",
        "    Returns:\n",
        "        indices (torch.Tensor): the matrix of indices; \n",
        "        shape = (num_samples, sample_size)\n",
        "    \"\"\"\n",
        "    begin_seq_index = [vectorizer.title_vocab.bos_index \n",
        "                       for _ in range(num_samples)]\n",
        "    begin_seq_index = torch.tensor(begin_seq_index, \n",
        "                                   dtype=torch.int64).unsqueeze(dim=1)\n",
        "    indices = [begin_seq_index]\n",
        "    h_t = None\n",
        "    \n",
        "    for time_step in range(sample_size):\n",
        "        x_t = indices[time_step]\n",
        "        x_emb_t = model.embedding(x_t)\n",
        "        rnn_out_t, h_t = model.rnn(x_emb_t, h_t)\n",
        "        prediction_vector = model.fc(rnn_out_t.squeeze(dim=1))\n",
        "        probability_vector = F.softmax(prediction_vector / temperature, dim=1)\n",
        "        indices.append(torch.multinomial(probability_vector, num_samples=1))\n",
        "    indices = torch.stack(indices).squeeze().permute(1, 0)\n",
        "    return indices\n",
        "\n",
        "def decode_samples(sampled_indices, vectorizer):\n",
        "    \"\"\"Transform indices into the string form of a surname\n",
        "    \n",
        "    Args:\n",
        "        sampled_indices (torch.Tensor): the inidces from `sample_from_model`\n",
        "        vectorizer (SurnameVectorizer): the corresponding vectorizer\n",
        "    \"\"\"\n",
        "    decoded_surnames = []\n",
        "    vocab = vectorizer.title_vocab\n",
        "    \n",
        "    for sample_index in range(sampled_indices.shape[0]):\n",
        "        surname = \"\"\n",
        "        for time_step in range(sampled_indices.shape[1]):\n",
        "            sample_item = sampled_indices[sample_index, time_step].item()\n",
        "            if sample_item == vocab.bos_index:\n",
        "                continue\n",
        "            elif sample_item == vocab.eos_index:\n",
        "                break\n",
        "            else:\n",
        "                surname += vocab.lookup_index(sample_item)\n",
        "        decoded_surnames.append(surname)\n",
        "    return decoded_surnames"
      ],
      "execution_count": null,
      "outputs": []
    },
    {
      "cell_type": "markdown",
      "metadata": {
        "id": "RpHjyM-Nl5-2"
      },
      "source": [
        "### Training Init"
      ]
    },
    {
      "cell_type": "code",
      "metadata": {
        "colab": {
          "base_uri": "https://localhost:8080/"
        },
        "id": "H53WV2Z7l9do",
        "outputId": "9214965f-4c5a-4dcc-8411-d8c7c3b3c243"
      },
      "source": [
        "args = Namespace(\n",
        "    # Data and Path information\n",
        "    title_csv=\"/content/drive/MyDrive/Colab Notebooks/PoemTitleGenerator/poem_title.csv\",\n",
        "    # Model hyper parameters\n",
        "    char_embedding_size=128,\n",
        "    rnn_hidden_size=128,\n",
        "    # Training hyper parameters\n",
        "    seed=1337,\n",
        "    learning_rate=0.001,\n",
        "    batch_size=32,\n",
        "    num_epochs=1000,\n",
        "    early_stopping_criteria=5,\n",
        "    # Runtime options\n",
        "    cuda=True,\n",
        ")\n",
        "\n",
        "train_state = make_train_state(args)\n",
        "\n",
        "args.device = \"cuda\" if args.cuda & torch.cuda.is_available() else \"cpu\"\n",
        "\n",
        "dataset = TitleDataset.load_dataset_and_make_vectorizer(args.title_csv)\n",
        "\n",
        "vectorizer = dataset.get_vectorizer()\n",
        "\n",
        "model = PoemTitleGenerator(embedding_size=args.char_embedding_size,\n",
        "                               vocab_size=len(vectorizer.title_vocab),\n",
        "                               rnn_hidden_size=args.rnn_hidden_size,\n",
        "                               padding_idx=vectorizer.title_vocab.mask_index)\n",
        "model.to(args.device)\n",
        "\n",
        "optimizer = optim.Adam(model.parameters(), lr=args.learning_rate)\n",
        "\n",
        "print(args.device)"
      ],
      "execution_count": null,
      "outputs": [
        {
          "output_type": "stream",
          "text": [
            "cuda\n"
          ],
          "name": "stdout"
        }
      ]
    },
    {
      "cell_type": "markdown",
      "metadata": {
        "id": "ZnYyrXFNRnr-"
      },
      "source": [
        "### Training Loop"
      ]
    },
    {
      "cell_type": "code",
      "metadata": {
        "colab": {
          "base_uri": "https://localhost:8080/",
          "height": 113,
          "referenced_widgets": [
            "937e9c5c6cdf4fe7b1960383a2244775",
            "0b44c0ba49634d4d98b20ab33452d9d7",
            "85adee4e965a437ba36245a78eebc7cc",
            "f9d3526d3fb0457d891e2fab842fc9cc",
            "9c5bb4ed8df44d12bd5cdcfa48648456",
            "bb82b7e58ae446f7b95c41b709de8e09",
            "3101f43f1d9848d382718f5311c62a82",
            "2ee930003e034806a202901e8d7bee75",
            "3e4fee812af943359285c48bc8863b55",
            "e04b8fd6a3ef4734be6231ca33e3f577",
            "5a73d18e217f47e6abe2145ef5694d46",
            "d862d8d08ffd49b5858dd9aca61458ad",
            "252024ccb2594dea987dafc21cd35c63",
            "41c676ab33ce4bcc83fe092aefc6aabc",
            "7b27ce736b1c4d1380b4bf39bdd39185",
            "9700ff00900c437289f8bf3cd7467771",
            "6f1197cf0ca8479d803c20b161c1be0d",
            "32ff0141e61148068dfcb6c879a98aa0",
            "39949f1c76f0458d94f0e5756f6c2088",
            "931ce633644f4850841b00eca4242c56",
            "c6a0903b9f7146718424a8e387d3d450",
            "170689f1ed20444d886473e9df129830",
            "cebd018c3b4d491f9d182b37b8e75d3a",
            "9ea14cc8b58c4b2d9a386cf6458689ae"
          ]
        },
        "id": "Atp7n__XRql-",
        "outputId": "fd9bf2c3-60a6-428e-bfd2-b690667f3d1c"
      },
      "source": [
        "mask_index = vectorizer.title_vocab.mask_index\n",
        "epoch_bar = tqdm(desc='training routine', \n",
        "                          total=args.num_epochs,\n",
        "                          position=0)\n",
        "\n",
        "dataset.set_split('train')\n",
        "train_bar = tqdm(desc='split=train',\n",
        "                          total=dataset.get_num_batches(args.batch_size)-1, \n",
        "                          position=1, \n",
        "                          leave=True)\n",
        "\n",
        "dataset.set_split('val')\n",
        "val_bar = tqdm(desc='split=val',\n",
        "                        total=dataset.get_num_batches(args.batch_size), \n",
        "                        position=1, \n",
        "                        leave=True)\n",
        "\n",
        "try:\n",
        "    for epoch_index in range(args.num_epochs):\n",
        "        train_state['epoch_index'] = epoch_index\n",
        "\n",
        "        # Iterate over training dataset\n",
        "\n",
        "        # setup: batch generator, set loss and acc to 0, set train mode on\n",
        "        dataset.set_split('train')\n",
        "        batch_generator = generate_batches(dataset, \n",
        "                                           batch_size=args.batch_size, \n",
        "                                           device=args.device)\n",
        "        running_loss = 0.0\n",
        "        running_acc = 0.0\n",
        "        model.train()\n",
        "        \n",
        "        for batch_index, batch_dict in enumerate(batch_generator):\n",
        "            # step 1. zero the gradients\n",
        "            optimizer.zero_grad()\n",
        "\n",
        "            # step 2. compute the output\n",
        "            y_pred = model(x_in=batch_dict['x_data'])\n",
        "\n",
        "            # step 3. compute the loss\n",
        "            loss = sequence_loss(y_pred, batch_dict['y_target'], mask_index)\n",
        "\n",
        "\n",
        "            # step 4. use loss to produce gradients\n",
        "            loss.backward()\n",
        "\n",
        "            # step 5. use optimizer to take gradient step\n",
        "            optimizer.step()\n",
        "\n",
        "            # compute the  running loss and running accuracy\n",
        "            running_loss += (loss.item() - running_loss) / (batch_index + 1)\n",
        "            acc_t = compute_accuracy(y_pred, batch_dict['y_target'], mask_index)\n",
        "            running_acc += (acc_t - running_acc) / (batch_index + 1)\n",
        "\n",
        "            # update bar\n",
        "            train_bar.set_postfix(loss=running_loss,\n",
        "                                  acc=running_acc,\n",
        "                                  epoch=epoch_index)\n",
        "            train_bar.update()\n",
        "\n",
        "        train_state['train_loss'].append(running_loss)\n",
        "        train_state['train_acc'].append(running_acc)\n",
        "\n",
        "        # Iterate over val dataset\n",
        "\n",
        "        # setup: batch generator, set loss and acc to 0; set eval mode on\n",
        "        dataset.set_split('val')\n",
        "        batch_generator = generate_batches(dataset, \n",
        "                                           batch_size=args.batch_size, \n",
        "                                           device=args.device)\n",
        "        running_loss = 0.\n",
        "        running_acc = 0.\n",
        "        model.eval()\n",
        "\n",
        "        for batch_index, batch_dict in enumerate(batch_generator):\n",
        "            # compute the output\n",
        "            y_pred = model(x_in=batch_dict['x_data'])\n",
        "\n",
        "            # step 3. compute the loss\n",
        "            loss = sequence_loss(y_pred, batch_dict['y_target'], mask_index)\n",
        "\n",
        "            # compute the  running loss and running accuracy\n",
        "            running_loss += (loss.item() - running_loss) / (batch_index + 1)\n",
        "            acc_t = compute_accuracy(y_pred, batch_dict['y_target'], mask_index)\n",
        "            running_acc += (acc_t - running_acc) / (batch_index + 1)\n",
        "            \n",
        "            # Update bar\n",
        "            val_bar.set_postfix(loss=running_loss, acc=running_acc, \n",
        "                            epoch=epoch_index)\n",
        "            val_bar.update()\n",
        "\n",
        "        train_state['val_loss'].append(running_loss)\n",
        "        train_state['val_acc'].append(running_acc)\n",
        "        \n",
        "        train_bar.n = 0\n",
        "        # val_bar.n = 0\n",
        "        epoch_bar.update()\n",
        "        \n",
        "except KeyboardInterrupt:\n",
        "    print(\"Exiting loop\")"
      ],
      "execution_count": null,
      "outputs": [
        {
          "output_type": "display_data",
          "data": {
            "application/vnd.jupyter.widget-view+json": {
              "model_id": "937e9c5c6cdf4fe7b1960383a2244775",
              "version_minor": 0,
              "version_major": 2
            },
            "text/plain": [
              "HBox(children=(FloatProgress(value=0.0, description='training routine', max=1000.0, style=ProgressStyle(descri…"
            ]
          },
          "metadata": {
            "tags": []
          }
        },
        {
          "output_type": "display_data",
          "data": {
            "application/vnd.jupyter.widget-view+json": {
              "model_id": "3e4fee812af943359285c48bc8863b55",
              "version_minor": 0,
              "version_major": 2
            },
            "text/plain": [
              "HBox(children=(FloatProgress(value=0.0, description='split=train', max=11.0, style=ProgressStyle(description_w…"
            ]
          },
          "metadata": {
            "tags": []
          }
        },
        {
          "output_type": "display_data",
          "data": {
            "application/vnd.jupyter.widget-view+json": {
              "model_id": "6f1197cf0ca8479d803c20b161c1be0d",
              "version_minor": 0,
              "version_major": 2
            },
            "text/plain": [
              "HBox(children=(FloatProgress(value=0.0, description='split=val', max=2.0, style=ProgressStyle(description_widt…"
            ]
          },
          "metadata": {
            "tags": []
          }
        }
      ]
    },
    {
      "cell_type": "markdown",
      "metadata": {
        "id": "D3mWh5eDrCFE"
      },
      "source": [
        "### Sampling"
      ]
    },
    {
      "cell_type": "code",
      "metadata": {
        "colab": {
          "base_uri": "https://localhost:8080/"
        },
        "id": "WbSTsRNezzxm",
        "outputId": "2cbe1346-5d30-4fde-8374-4b4c86d3c2a4"
      },
      "source": [
        "print(dataset.max_seq_length)"
      ],
      "execution_count": null,
      "outputs": [
        {
          "output_type": "stream",
          "text": [
            "83\n"
          ],
          "name": "stdout"
        }
      ]
    },
    {
      "cell_type": "code",
      "metadata": {
        "colab": {
          "base_uri": "https://localhost:8080/"
        },
        "id": "FiUoXx_GrDvC",
        "outputId": "b593da96-3eb1-4593-ab0f-b21aca052581"
      },
      "source": [
        "num_names = 100\n",
        "model = model.cpu()\n",
        "# Generate nationality hidden state\n",
        "sample_title = decode_samples(\n",
        "    sample_from_model(model, vectorizer, num_samples=num_names, sample_size=83), \n",
        "    vectorizer)\n",
        "# Show results\n",
        "print (\"-\"*15)\n",
        "for i in range(num_names):\n",
        "    print (sample_title[i])"
      ],
      "execution_count": null,
      "outputs": [
        {
          "output_type": "stream",
          "text": [
            "---------------\n",
            "The Bait\n",
            "Song: Orpheus more thes fore thy wild fork on hath were fore there her cronice alli\n",
            "Winter Stars\n",
            "Wild Peaches\n",
            "He wishes his Beloved were Foud for the Being\n",
            "OLen of Wasen\n",
            "[love is more thes fale boled thou tree wear thers\n",
            "Song: to Celia [Wonte, grest\n",
            "Song for the Lady Mary Wroth\n",
            "The Sauchs in the Reuch Heuch Hauch\n",
            "A Coronet for heram\n",
            "Rosalinds Madrigal\n",
            "Magic\n",
            "The Relic\n",
            "Break of Day\n",
            "Green Groweth the Holly\n",
            "Prothalamian\n",
            "The Siver Mirnaly beood\n",
            "Sonnet 110: Alas, 'tin thoug with her sout\n",
            "The Bait\n",
            "A Graveyard\n",
            "Delia 33: Hy wasme anlt and all thespe, now in thou mayst in the mary for led, more\n",
            "Astrophil and Stella 109: O thou made her cherety\n",
            "The Estoble Isn\n",
            "At Melvisles\n",
            "Farewell Love as Dais Son Hing of Renbsea\n",
            "Intine Pigtres\n",
            "Sonnet 33: Full many a glorious made to Celia [Afyloss \n",
            "The Song of the Wits\n",
            "Bronzes\n",
            "Astrophil and Stella 106: O absent presencong this whanly thXa\n",
            "Unstable Dream\n",
            "The Rivilet\n",
            "Winter Song\n",
            "The Wild Comman\n",
            "Ballad of the Three Haymrel\n",
            "Sonnet 146: Pass and is my the poritrin the suprin\n",
            "Invitation of Hargy Gare of Stella 5ay dell and sounl\n",
            "Song: 3o The Onow dirs\n",
            "The Aged Lover Renoune\n",
            "When I Was Fair and Young\n",
            "Sonnet 107: Stella is not heary bee eook in thy kes that with singus for reus be\n",
            "Song: Go and catch a falling star\n",
            "from Pamphilia to Amphilanthus: 19\n",
            "Adam's Grows\n",
            "The Truly Gailse of Coseas\n",
            "Amoretti LXXXI: Faymerion yauth ald and celt to love to saly butring in the soul\n",
            "To Sul Song\n",
            "Sonnet 1: From fairest creatures we desire increase\n",
            "Debt\n",
            "An Elegy\n",
            "The Circus Animals Delis Song\n",
            "to Alling\n",
            "A Sson Michess?\n",
            "Sonnet 11: From fairest thing the sor me, fair bles, Calpanthbiad Love of in art to\n",
            "How Much?\n",
            "If Mistry\n",
            "Sonnet 110: Alas, 'st is gelon\n",
            "Song: O Mistress mine where are you rusacus my las, my fathing beauty ot o not tier\n",
            "Most Hes Moderis Sam Fare Peas\n",
            "On a Poriretic\n",
            "Remembrance\n",
            "The River-Merchants Wife: A Letter\n",
            "The Everlasting Voiteses\n",
            "Astrophil and Stella 102: Where be the show\n",
            "Unstomof9 Orw To the Plorise thear\n",
            "Sonnet 91: From fairest creatures we desire increase\n",
            "The Say Then Book of Pholetica, for yer Mar, for in the Bais, Milosus Aes Love of a\n",
            "Bat\n",
            "Gairmscoile\n",
            "Sonnet 104: To me, fair friend, you gradFingule \"forr the princess art\n",
            "Byzantium\n",
            "Song: Indere mend\n",
            "A Valediction: Oner\n",
            "Srong for Aindlil\n",
            "An Elegy\n",
            "Belofs Mountan Angif\n",
            "Cadeam in This Frieds Song\n",
            "Sonnet 38: From fairest creatures we desire increase\n",
            "Astrophil and Stella 53: What is your substance, whereof are you made\n",
            "Voinit Xor and the Callaby\n",
            "Sonnet 103: Ens Moresanday me oon the Scon, thou my consiny but to groan\n",
            "The Bait\n",
            "Sonnet 135: When Rivers\n",
            "Astrophil and Stella 101: Stella is sick, and in that sick, Stiella\n",
            "Green Groweth the Holly\n",
            "The Buith\n",
            "Amoretti LXXV: One Day I Wrote her Name\n",
            "Song: Horh hark that soul dourk be Dijfaly Letume of Indais Sounlow\n",
            "Sonnet 115: When Belling thin\n",
            "Gairmscoile\n",
            "Amoretti XVII: Hapky Outhon thou mayst in the breverse own has bread wher and tella\n",
            "Song: When that I was and a littres ow ou made of that faires\n",
            "Amoretti LXVII: Like as a Hampin Her houst the Cea-ery\n",
            "The Everlasting Min Mervilar\n",
            "Canto IV\n",
            "Hor Find in the Withy\n",
            "Indian River\n",
            "Full Moon\n",
            "A Graveyard\n"
          ],
          "name": "stdout"
        }
      ]
    },
    {
      "cell_type": "code",
      "metadata": {
        "colab": {
          "base_uri": "https://localhost:8080/"
        },
        "id": "wWCDkPXSwVY3",
        "outputId": "c80520c6-cd10-455f-f415-ba4b61533f4f"
      },
      "source": [
        "title_df = pd.read_csv(\"/content/drive/MyDrive/Colab Notebooks/PoemTitleGenerator/poem_title.csv\")\n",
        "\n",
        "for title in sample_title:\n",
        "    title_list = title_df[title_df['poem name'] == title]['poem name'].to_list()\n",
        "    if len(title_list) == 0:\n",
        "        print(\"no match found for \", title)\n",
        "    else:\n",
        "        print(\"found \", title_list)"
      ],
      "execution_count": null,
      "outputs": [
        {
          "output_type": "stream",
          "text": [
            "found  ['The Bait', 'The Bait']\n",
            "no match found for  Song: Orpheus more thes fore thy wild fork on hath were fore there her cronice alli\n",
            "found  ['Winter Stars']\n",
            "found  ['Wild Peaches', 'Wild Peaches']\n",
            "no match found for  He wishes his Beloved were Foud for the Being\n",
            "no match found for  OLen of Wasen\n",
            "no match found for  [love is more thes fale boled thou tree wear thers\n",
            "no match found for  Song: to Celia [Wonte, grest\n",
            "no match found for  Song for the Lady Mary Wroth\n",
            "found  ['The Sauchs in the Reuch Heuch Hauch']\n",
            "no match found for  A Coronet for heram\n",
            "found  ['Rosalinds Madrigal']\n",
            "found  ['Magic', 'Magic']\n",
            "found  ['The Relic']\n",
            "found  ['Break of Day', 'Break of Day']\n",
            "found  ['Green Groweth the Holly', 'Green Groweth the Holly']\n",
            "no match found for  Prothalamian\n",
            "no match found for  The Siver Mirnaly beood\n",
            "no match found for  Sonnet 110: Alas, 'tin thoug with her sout\n",
            "found  ['The Bait', 'The Bait']\n",
            "found  ['A Graveyard']\n",
            "no match found for  Delia 33: Hy wasme anlt and all thespe, now in thou mayst in the mary for led, more\n",
            "no match found for  Astrophil and Stella 109: O thou made her cherety\n",
            "no match found for  The Estoble Isn\n",
            "no match found for  At Melvisles\n",
            "no match found for  Farewell Love as Dais Son Hing of Renbsea\n",
            "no match found for  Intine Pigtres\n",
            "no match found for  Sonnet 33: Full many a glorious made to Celia [Afyloss \n",
            "no match found for  The Song of the Wits\n",
            "found  ['Bronzes']\n",
            "no match found for  Astrophil and Stella 106: O absent presencong this whanly thXa\n",
            "found  ['Unstable Dream']\n",
            "no match found for  The Rivilet\n",
            "no match found for  Winter Song\n",
            "no match found for  The Wild Comman\n",
            "no match found for  Ballad of the Three Haymrel\n",
            "no match found for  Sonnet 146: Pass and is my the poritrin the suprin\n",
            "no match found for  Invitation of Hargy Gare of Stella 5ay dell and sounl\n",
            "no match found for  Song: 3o The Onow dirs\n",
            "no match found for  The Aged Lover Renoune\n",
            "found  ['When I Was Fair and Young', 'When I Was Fair and Young', 'When I Was Fair and Young']\n",
            "no match found for  Sonnet 107: Stella is not heary bee eook in thy kes that with singus for reus be\n",
            "found  ['Song: Go and catch a falling star', 'Song: Go and catch a falling star']\n",
            "found  ['from Pamphilia to Amphilanthus: 19', 'from Pamphilia to Amphilanthus: 19']\n",
            "no match found for  Adam's Grows\n",
            "no match found for  The Truly Gailse of Coseas\n",
            "no match found for  Amoretti LXXXI: Faymerion yauth ald and celt to love to saly butring in the soul\n",
            "no match found for  To Sul Song\n",
            "found  ['Sonnet 1: From fairest creatures we desire increase', 'Sonnet 1: From fairest creatures we desire increase']\n",
            "found  ['Debt']\n",
            "found  ['An Elegy']\n",
            "no match found for  The Circus Animals Delis Song\n",
            "no match found for  to Alling\n",
            "no match found for  A Sson Michess?\n",
            "no match found for  Sonnet 11: From fairest thing the sor me, fair bles, Calpanthbiad Love of in art to\n",
            "found  ['How Much?']\n",
            "no match found for  If Mistry\n",
            "no match found for  Sonnet 110: Alas, 'st is gelon\n",
            "no match found for  Song: O Mistress mine where are you rusacus my las, my fathing beauty ot o not tier\n",
            "no match found for  Most Hes Moderis Sam Fare Peas\n",
            "no match found for  On a Poriretic\n",
            "found  ['Remembrance']\n",
            "found  ['The River-Merchants Wife: A Letter', 'The River-Merchants Wife: A Letter']\n",
            "no match found for  The Everlasting Voiteses\n",
            "no match found for  Astrophil and Stella 102: Where be the show\n",
            "no match found for  Unstomof9 Orw To the Plorise thear\n",
            "no match found for  Sonnet 91: From fairest creatures we desire increase\n",
            "no match found for  The Say Then Book of Pholetica, for yer Mar, for in the Bais, Milosus Aes Love of a\n",
            "found  ['Bat']\n",
            "found  ['Gairmscoile', 'Gairmscoile']\n",
            "no match found for  Sonnet 104: To me, fair friend, you gradFingule \"forr the princess art\n",
            "found  ['Byzantium']\n",
            "no match found for  Song: Indere mend\n",
            "no match found for  A Valediction: Oner\n",
            "no match found for  Srong for Aindlil\n",
            "found  ['An Elegy']\n",
            "no match found for  Belofs Mountan Angif\n",
            "no match found for  Cadeam in This Frieds Song\n",
            "no match found for  Sonnet 38: From fairest creatures we desire increase\n",
            "no match found for  Astrophil and Stella 53: What is your substance, whereof are you made\n",
            "no match found for  Voinit Xor and the Callaby\n",
            "no match found for  Sonnet 103: Ens Moresanday me oon the Scon, thou my consiny but to groan\n",
            "found  ['The Bait', 'The Bait']\n",
            "no match found for  Sonnet 135: When Rivers\n",
            "no match found for  Astrophil and Stella 101: Stella is sick, and in that sick, Stiella\n",
            "found  ['Green Groweth the Holly', 'Green Groweth the Holly']\n",
            "no match found for  The Buith\n",
            "found  ['Amoretti LXXV: One Day I Wrote her Name']\n",
            "no match found for  Song: Horh hark that soul dourk be Dijfaly Letume of Indais Sounlow\n",
            "no match found for  Sonnet 115: When Belling thin\n",
            "found  ['Gairmscoile', 'Gairmscoile']\n",
            "no match found for  Amoretti XVII: Hapky Outhon thou mayst in the breverse own has bread wher and tella\n",
            "no match found for  Song: When that I was and a littres ow ou made of that faires\n",
            "no match found for  Amoretti LXVII: Like as a Hampin Her houst the Cea-ery\n",
            "no match found for  The Everlasting Min Mervilar\n",
            "found  ['Canto IV', 'Canto IV', 'Canto IV']\n",
            "no match found for  Hor Find in the Withy\n",
            "found  ['Indian River']\n",
            "found  ['Full Moon', 'Full Moon']\n",
            "found  ['A Graveyard']\n"
          ],
          "name": "stdout"
        }
      ]
    }
  ]
}